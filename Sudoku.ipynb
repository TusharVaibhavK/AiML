{
  "nbformat": 4,
  "nbformat_minor": 0,
  "metadata": {
    "colab": {
      "provenance": [],
      "authorship_tag": "ABX9TyPdLjoPnxZQ2QP2C0UPPbPG",
      "include_colab_link": true
    },
    "kernelspec": {
      "name": "python3",
      "display_name": "Python 3"
    },
    "language_info": {
      "name": "python"
    }
  },
  "cells": [
    {
      "cell_type": "markdown",
      "metadata": {
        "id": "view-in-github",
        "colab_type": "text"
      },
      "source": [
        "<a href=\"https://colab.research.google.com/github/TusharVaibhavK/AiML/blob/main/Sudoku.ipynb\" target=\"_parent\"><img src=\"https://colab.research.google.com/assets/colab-badge.svg\" alt=\"Open In Colab\"/></a>"
      ]
    },
    {
      "cell_type": "code",
      "execution_count": 5,
      "metadata": {
        "colab": {
          "base_uri": "https://localhost:8080/"
        },
        "id": "KM9rltKwlB_r",
        "outputId": "ec2a8c0b-9172-4ed4-c373-bca65dd3fcb7"
      },
      "outputs": [
        {
          "output_type": "stream",
          "name": "stdout",
          "text": [
            "8 6 4 3 7 1 2 5 9 \n",
            "3 2 5 8 4 9 7 6 1 \n",
            "9 7 1 2 6 5 8 4 3 \n",
            "4 3 6 1 9 2 5 8 7 \n",
            "1 9 8 6 5 7 4 3 2 \n",
            "2 5 7 4 8 3 9 1 6 \n",
            "6 8 9 7 3 4 1 2 5 \n",
            "7 1 3 5 2 8 6 9 4 \n",
            "5 4 2 9 1 6 3 7 8 \n"
          ]
        }
      ],
      "source": [
        "def valid(grid, row, col, number):\n",
        "\n",
        "  for x in range(9):\n",
        "    if grid[row][x] == number:\n",
        "      return False\n",
        "\n",
        "  for x in range(9):\n",
        "    if grid[x][col] == number:\n",
        "      return False\n",
        "\n",
        "  corner_row = row - row % 3\n",
        "  corner_col = col - col % 3\n",
        "\n",
        "  for x in range(3):\n",
        "    for y in range(3):\n",
        "      if grid[corner_row + x][corner_col + y] == number:\n",
        "        return False\n",
        "\n",
        "  return True\n",
        "\n",
        "\n",
        "def solve(grid, row, col):\n",
        "  if col == 9:\n",
        "    if row == 8:\n",
        "      return True\n",
        "    row += 1\n",
        "    col = 0\n",
        "\n",
        "  if grid[row][col] > 0:\n",
        "    return solve(grid, row, col + 1)\n",
        "\n",
        "  for num in range(1, 10):\n",
        "    if valid(grid, row, col, num):\n",
        "      grid[row][col] = num\n",
        "      if solve(grid, row, col + 1):\n",
        "        return True\n",
        "\n",
        "    grid[row][col] = 0\n",
        "\n",
        "  return False\n",
        "\n",
        "\n",
        "grid = [[0, 0, 4, 3, 0, 0, 2, 0, 9],\n",
        " [0, 0, 5, 0, 0, 9, 0, 0, 1],\n",
        " [0, 7, 0, 0, 6, 0, 0, 4, 3],\n",
        " [0, 0, 6, 0, 0, 2, 0, 8, 7],\n",
        " [1, 9, 0, 0, 0, 7, 4, 0, 0],\n",
        " [0, 5, 0, 0, 8, 3, 0, 0, 0],\n",
        " [6, 0, 0, 0, 0, 0, 1, 0, 5],\n",
        " [0, 0, 3, 5, 0, 8, 6, 9, 0],\n",
        " [0, 4, 2, 9, 1, 0, 3, 0, 0]]\n",
        "\n",
        "if solve(grid, 0, 0):\n",
        "  for i in range(9):\n",
        "    for j in range(9):\n",
        "      print(grid[i][j], end=\" \")\n",
        "    print()\n",
        "\n",
        "else:\n",
        "  print(\"No Solutions\")"
      ]
    }
  ]
}